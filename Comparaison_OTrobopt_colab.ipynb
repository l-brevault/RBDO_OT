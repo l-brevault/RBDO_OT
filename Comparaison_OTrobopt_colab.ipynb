{
  "nbformat": 4,
  "nbformat_minor": 0,
  "metadata": {
    "colab": {
      "name": "Comparaison_OTrobopt.ipynb",
      "provenance": [],
      "collapsed_sections": []
    },
    "kernelspec": {
      "name": "python3",
      "display_name": "Python 3"
    },
    "language_info": {
      "name": "python"
    }
  },
  "cells": [
    {
      "cell_type": "code",
      "metadata": {
        "colab": {
          "base_uri": "https://localhost:8080/"
        },
        "id": "WU6QJ-wlLXkf",
        "outputId": "3c82ad09-c338-420f-cfd4-cacd7a36b165"
      },
      "source": [
        "pip install openturns\n",
        "pip install otrobopt"
      ],
      "execution_count": 1,
      "outputs": [
        {
          "output_type": "stream",
          "text": [
            "Collecting openturns\n",
            "  Downloading openturns-1.17-cp37-cp37m-manylinux1_x86_64.whl (48.0 MB)\n",
            "\u001b[K     |████████████████████████████████| 48.0 MB 39 kB/s \n",
            "\u001b[?25hInstalling collected packages: openturns\n",
            "Successfully installed openturns-1.17\n"
          ],
          "name": "stdout"
        }
      ]
    },
    {
      "cell_type": "code",
      "metadata": {
        "id": "t_T0j5WfLhci"
      },
      "source": [
        "import otrobopt\n",
        "import openturns as ot\n",
        "from RBDO_class import *\n",
        "import time\n",
        "ZDist = ot.Normal(0,1)"
      ],
      "execution_count": 4,
      "outputs": []
    },
    {
      "cell_type": "markdown",
      "metadata": {
        "id": "3Chi_h7iL4xi"
      },
      "source": [
        "# Comparison of RIA/SORA/PMA with ot-robopt\n",
        "\n",
        "This notebook compares ot-robopt with the RBDO algorithms on a toy case\n",
        "\n",
        "\n",
        "The RBDO problem to solve is the following\n",
        "\n",
        "\n",
        "\\begin{eqnarray}\n",
        "\\min_{d_1,d_2} & & (d_1-0.25)^2+d_2*d_1 \\\\\n",
        "\\text{s.t.} & & \\left\\{\n",
        "                \\begin{array}{ll}\n",
        "                  \\mathbb{P} \\left(g_i(Z,d_1,d_2))\\leq 0 \\right) \\leq P_{f}^T\\\\\n",
        "                  -5 \\leq d_1\\leq 5 \\\\\n",
        "                  -5 \\leq d_2\\leq 5 \\\\\n",
        "                \\end{array}\n",
        "              \\right.\n",
        "\\end{eqnarray}\n",
        "with:\n",
        "- $g_1(Z,\\mathbf{d}) = (Z - d_2)-2*d_1$ \n",
        "\n",
        "and $Z$ a random Gaussian variable $Z\\sim \\mathcal{N}(0,0.5)$, $[p_1,p_2] = [\\mu_{X_1},\\mu_{X_2}]$ the mean values of the random variables $X_1,X_2$.\n",
        "For the probability target maximal, it is assumed a reliability index $\\beta = 2.$ leading to $P_f^T = \\Phi(-\\beta) \\simeq 0.02275$ with $\\Phi(\\cdot)$ the CFD of a standard Normal distribution.\n",
        "\n",
        "There is no $\\mathbf{p}$ in this problem to be consistent with ot-robopt"
      ]
    },
    {
      "cell_type": "code",
      "metadata": {
        "colab": {
          "base_uri": "https://localhost:8080/"
        },
        "id": "dKVrL5BUL0-m",
        "outputId": "0347ec4e-e846-4865-f648-d787ecdeb2ec"
      },
      "source": [
        "# ot-robopt\n",
        "\n",
        "J = ot.SymbolicFunction(\n",
        "    ['d_1', 'd_2'], ['(d_1-0.25)^2 - d_2-d_1'])\n",
        "calG = ot.SymbolicFunction(\n",
        "    ['d_1', 'd_2', 'Z'], ['-((Z-d_2)-2*d_1)'])\n",
        "g = ot.ParametricFunction(calG, [2], [0.])\n",
        "reliabilityMeasure = otrobopt.JointChanceMeasure(g, ZDist, ot.Less(), 0.02275)\n",
        "problem = otrobopt.RobustOptimizationProblem(J, reliabilityMeasure)\n",
        "bounds = ot.Interval([-5.] * 2, [5.] * 2)\n",
        "problem.setBounds(bounds)\n",
        "algo = ot.Cobyla(problem)\n",
        "t0 = time.time()\n",
        "algo.setStartingPoint([0.0]*reliabilityMeasure.getInputDimension())\n",
        "algo.run()\n",
        "x_et = algo.getResult().getOptimalPoint()\n",
        "print(x_et)\n",
        "J_et = algo.getResult().getOptimalValue()\n",
        "print(J_et)\n",
        "res = algo.getResult()\n",
        "print('Time CPU = ',time.time()-t0)"
      ],
      "execution_count": 16,
      "outputs": [
        {
          "output_type": "stream",
          "text": [
            "[-0.250005,-1.49999]\n",
            "[2]\n",
            "Time CPU =  0.1429729461669922\n"
          ],
          "name": "stdout"
        }
      ]
    },
    {
      "cell_type": "code",
      "metadata": {
        "id": "kFD0PGOQL5wn"
      },
      "source": [
        "# RBDO RIA\n",
        "## Definition of the objective Python function\n",
        "def obj(d,p):\n",
        "    d1 = d[0]\n",
        "    d2 = d[1]        \n",
        "    return (d1-0.25)**2-d1-d2\n",
        "\n",
        "## Definition of the objective RBDO function with active d and p on the objective function. \n",
        "## In the example, no d are given (no active d), and the objective function depends on p=[p_1,p_2] (both active on the function),\n",
        "## therefore in the vector XX=[d,p] p_1,p_2 are first and second index of XX\n",
        "active_index_d = [0,1]\n",
        "active_index_p = []\n",
        "len_XX = 2\n",
        "f_obj = Objective(obj,active_index_d,active_index_p,len_XX)\n",
        "\n",
        "## Definition of the constraint functions\n",
        "def g1(d,x,z):\n",
        "    d1 = d[0]\n",
        "    d2 = d[1]\n",
        "    z0 = z[0]\n",
        "    g1 = ((z0-d2)-2*d1)\n",
        "    return [g1]"
      ],
      "execution_count": 10,
      "outputs": []
    },
    {
      "cell_type": "code",
      "metadata": {
        "colab": {
          "base_uri": "https://localhost:8080/"
        },
        "id": "3Qw3_O-vMBHh",
        "outputId": "5f15c4e9-4d2b-421f-fcc7-d96f447dcf6b"
      },
      "source": [
        "active_index_d_g1 = [0,1] \n",
        "active_index_p_g1 = [] \n",
        "PfT_g1 = 0.02275\n",
        "PIneq_g1 = PIneqCons(g1,active_index_d_g1,active_index_p_g1,None,ZDist,PfT_g1)\n",
        "\n",
        "## Definition of the list of constraints\n",
        "PIneqCons_list = [PIneq_g1]  #list of Probability inequality constraints\n",
        "DIneqCons_list = [] #list of deterministic constraints --> no deterministic ,constraints here\n",
        "Bounds = ot.Interval([-5.,-5.], [5.,5.])  #Definition of the bounds on XX=[d,p] \n",
        "len_d = 2 #len of deterministic variable vector d\n",
        "len_p = 0 #len of hyperparemeters variable vector p\n",
        "\n",
        "# Definition of RBDO problem using the previously defined objective function, constraint functions and bounds\n",
        "RBDO_Problem_test = RBDO_Problem(f_obj,PIneqCons_list,DIneqCons_list,Bounds,len_d,len_p)\n",
        "\n",
        "# Initial optimization points\n",
        "InitialPoint = [0.,0.]\n",
        "\n",
        "# Solver type of RIA\n",
        "Solver = ot.NLopt('LN_COBYLA')\n",
        "Solver.setVerbose(True)\n",
        "Solver.setMaximumEvaluationNumber(1000)\n",
        "Solver.setMaximumIterationNumber(200)\n",
        "\n",
        "t0 = time.time()\n",
        "# Instantiation of the RIA algorithm\n",
        "RIA_Algorithm_test = RIA_Algorithm(RBDO_Problem_test,Solver,InitialPoint)\n",
        "\n",
        "# Run of RIA algorithm\n",
        "result = RIA_Algorithm_test.run()\n",
        "\n",
        "#Obtained results\n",
        "print('Optimal design variables d = ',RIA_Algorithm_test.get_optimum())\n",
        "print('Optimal objective function value = ',RIA_Algorithm_test.get_foptimum())\n",
        "print('Optimal constraint functions value = ',RIA_Algorithm_test.get_consoptimum())\n",
        "print('Number of RIA iterations = ', result.getEvaluationNumber())\n",
        "print('Time CPU = ',time.time()-t0)"
      ],
      "execution_count": 15,
      "outputs": [
        {
          "output_type": "stream",
          "text": [
            "Optimal design variables d =  [-0.253461,-1.49308]\n",
            "Optimal objective function value =  [2.00001]\n",
            "Optimal constraint functions value =  [0.022749999996403505]\n",
            "Number of RIA iterations =  37\n",
            "Time CPU =  0.03716421127319336\n"
          ],
          "name": "stdout"
        }
      ]
    },
    {
      "cell_type": "code",
      "metadata": {
        "colab": {
          "base_uri": "https://localhost:8080/"
        },
        "id": "DgDrdCrzMD2V",
        "outputId": "52ecf9fb-2740-4712-bd1d-9ea182bd1b0f"
      },
      "source": [
        "##SORA \n",
        "InvFORM_solver_g1 = 'SLSQP' ## Choice of Inverse FORM Solver : ['SLSQP','AMV','CMV','HMV']\n",
        "\n",
        "active_index_d_g1 = [0,1] \n",
        "active_index_p_g1 = [] \n",
        "PfT_g1 = 0.02275\n",
        "PIneq_g1 = PIneqCons(g1,active_index_d_g1,active_index_p_g1,None,ZDist,PfT_g1,solver_invFORM = InvFORM_solver_g1) \n",
        "\n",
        "## Definition of the list of constraints\n",
        "PIneqCons_list = [PIneq_g1]  #list of Probability inequality constraints\n",
        "DIneqCons_list = [] #list of deterministic constraints --> no deterministic ,constraints here\n",
        "Bounds = ot.Interval([-5.,-5.], [5.,5.])  #Definition of the bounds on XX=[d,p] \n",
        "len_d = 2 #len of deterministic variable vector d\n",
        "len_p = 0 #len of hyperparemeters variable vector p\n",
        "\n",
        "# Definition of RBDO problem using the previously defined objective function, constraint functions and bounds\n",
        "RBDO_Problem_test = RBDO_Problem(f_obj,PIneqCons_list,DIneqCons_list,Bounds,len_d,len_p)\n",
        "\n",
        "# Initial optimization points\n",
        "InitialPoint = [0.,0.]\n",
        "\n",
        "# Solver type of SORA\n",
        "Solver = ot.NLopt('LN_COBYLA')\n",
        "Solver.setVerbose(True)\n",
        "Solver.setMaximumEvaluationNumber(1000)\n",
        "Solver.setMaximumIterationNumber(200)\n",
        "\n",
        "t0 = time.time()\n",
        "# Instantiation of the SORA algorithm\n",
        "SORA_Algorithm_test = SORA_Algorithm(RBDO_Problem_test,Solver,InitialPoint)\n",
        "\n",
        "# Run of SORA algorithm\n",
        "result = SORA_Algorithm_test.run()\n",
        "\n",
        "#Obtained results\n",
        "print('Optimal design variables d = ',SORA_Algorithm_test.get_optimum())\n",
        "print('Optimal objective function value = ',SORA_Algorithm_test.get_foptimum())\n",
        "print('Optimal constraint functions value = ',SORA_Algorithm_test.get_consoptimum())\n",
        "print('Number of SORA iterations = ', result.getEvaluationNumber())\n",
        "print('Time CPU = ',time.time()-t0)\n"
      ],
      "execution_count": 14,
      "outputs": [
        {
          "output_type": "stream",
          "text": [
            "Optimal design variables d =  [-0.249193,2.49839]\n",
            "Optimal objective function value =  [-2]\n",
            "Optimal constraint functions value =  [0.022750000000000006]\n",
            "Number of SORA iterations =  31\n",
            "Time CPU =  0.02968740463256836\n"
          ],
          "name": "stdout"
        }
      ]
    }
  ]
}