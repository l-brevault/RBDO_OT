{
 "cells": [
  {
   "cell_type": "markdown",
   "metadata": {},
   "source": [
    "# Comparison of RIA/SORA/PMA with ot-robopt\n",
    "\n",
    "This notebook compares ot-robopt with the RBDO algorithms on a toy case\n",
    "\n",
    "\n",
    "The RBDO problem to solve is the following\n",
    "\n",
    "\n",
    "\\begin{eqnarray}\n",
    "\\min_{d_1,d_2} & & (d_1-0.25)^2+d_2*d_1 \\\\\n",
    "\\text{s.t.} & & \\left\\{\n",
    "                \\begin{array}{ll}\n",
    "                  \\mathbb{P} \\left(g_1(\\{d_1,d_2\\},Z))\\leq 0 \\right) \\leq P_{f}^T\\\\\n",
    "                  -5 \\leq d_1\\leq 5 \\\\\n",
    "                  -5 \\leq d_2\\leq 5 \\\\\n",
    "                \\end{array}\n",
    "              \\right.\n",
    "\\end{eqnarray}\n",
    "with:\n",
    "- $g_1(\\mathbf{d},Z) = (Z - d_2)-2*d_1$ \n",
    "\n",
    "and $Z$ a random Gaussian variable $Z\\sim \\mathcal{N}(0,0.5)$.\n",
    "For the probability target maximal, it is assumed a reliability index $\\beta = 2.$ leading to $P_f^T = \\Phi(-\\beta) \\simeq 0.02275$ with $\\Phi(\\cdot)$ the CFD of a standard Normal distribution.\n",
    "\n",
    "There is no variable $\\mathbf{X}$ and therefore $\\mathbf{p}$ in this problem to be consistent with `ot-robopt` "
   ]
  },
  {
   "cell_type": "code",
   "execution_count": 1,
   "metadata": {},
   "outputs": [],
   "source": [
    "import otrobopt\n",
    "import openturns as ot\n",
    "from RBDO_class import *\n",
    "import time\n",
    "ZDist = ot.Normal(0,1)"
   ]
  },
  {
   "cell_type": "code",
   "execution_count": 14,
   "metadata": {},
   "outputs": [
    {
     "name": "stdout",
     "output_type": "stream",
     "text": [
      "Optimal design variables p =  [-0.250004,-1.5]\n",
      "Optimal objective function value =  [2]\n",
      "Time CPU =  0.08852863311767578\n"
     ]
    }
   ],
   "source": [
    "# ot-robopt\n",
    "J = ot.SymbolicFunction(\n",
    "    ['d_1', 'd_2'], ['(d_1-0.25)^2 - d_2-d_1'])\n",
    "calG = ot.SymbolicFunction(\n",
    "    ['d_1', 'd_2', 'Z'], ['-((Z-d_2)-2*d_1)'])\n",
    "g = ot.ParametricFunction(calG, [2], [0.])\n",
    "reliabilityMeasure = otrobopt.JointChanceMeasure(g, ZDist, ot.Less(), 0.02275)\n",
    "problem = otrobopt.RobustOptimizationProblem(J, reliabilityMeasure)\n",
    "bounds = ot.Interval([-5.] * 2, [5.] * 2)\n",
    "t0 = time.time()\n",
    "problem.setBounds(bounds)\n",
    "algo = ot.Cobyla(problem)\n",
    "algo.setStartingPoint([0.0]*reliabilityMeasure.getInputDimension())\n",
    "algo.run()\n",
    "x_et = algo.getResult().getOptimalPoint()\n",
    "print('Optimal design variables p = ',x_et)\n",
    "J_et = algo.getResult().getOptimalValue()\n",
    "print('Optimal objective function value = ',J_et)\n",
    "res = algo.getResult()\n",
    "print('Time CPU = ',time.time()-t0)"
   ]
  },
  {
   "cell_type": "code",
   "execution_count": 3,
   "metadata": {},
   "outputs": [],
   "source": [
    "# RBDO RIA\n",
    "## Definition of the objective Python function\n",
    "def obj(d,p):\n",
    "    d1 = d[0]\n",
    "    d2 = d[1]        \n",
    "    return (d1-0.25)**2-d1-d2\n",
    "\n",
    "## Definition of the objective RBDO function with active d and p on the objective function. \n",
    "## In the example, no d are given (no active d), and the objective function depends on p=[p_1,p_2] (both active on the function),\n",
    "## therefore in the vector XX=[d,p] p_1,p_2 are first and second index of XX\n",
    "active_index_d = [0,1]\n",
    "active_index_p = []\n",
    "len_XX = 2\n",
    "f_obj = Objective(obj,active_index_d,active_index_p,len_XX)\n",
    "\n",
    "## Definition of the constraint functions\n",
    "def g1(d,x,z):\n",
    "    d1 = d[0]\n",
    "    d2 = d[1]\n",
    "    z0 = z[0]\n",
    "    g1 = ((z0-d2)-2*d1)\n",
    "    return [g1]"
   ]
  },
  {
   "cell_type": "code",
   "execution_count": 15,
   "metadata": {},
   "outputs": [
    {
     "name": "stdout",
     "output_type": "stream",
     "text": [
      "Optimal design variables p =  [-0.251559,-1.49688]\n",
      "Optimal objective function value =  [2]\n",
      "Optimal constraint functions value =  [0.02275000000000004]\n",
      "Number of RIA iterations =  26\n",
      "Time CPU =  0.013991117477416992\n"
     ]
    }
   ],
   "source": [
    "active_index_d_g1 = [0,1] \n",
    "active_index_p_g1 = [] \n",
    "PfT_g1 = 0.02275\n",
    "PIneq_g1 = PIneqCons(g1,active_index_d_g1,active_index_p_g1,None,ZDist,PfT_g1)\n",
    "\n",
    "## Definition of the list of constraints\n",
    "PIneqCons_list = [PIneq_g1]  #list of Probability inequality constraints\n",
    "DIneqCons_list = [] #list of deterministic constraints --> no deterministic ,constraints here\n",
    "Bounds = ot.Interval([-5.,-5.], [5.,5.])  #Definition of the bounds on XX=[d,p] \n",
    "len_d = 2 #len of deterministic variable vector d\n",
    "len_p = 0 #len of hyperparemeters variable vector p\n",
    "\n",
    "# Definition of RBDO problem using the previously defined objective function, constraint functions and bounds\n",
    "RBDO_Problem_test = RBDO_Problem(f_obj,PIneqCons_list,DIneqCons_list,Bounds,len_d,len_p)\n",
    "\n",
    "# Initial optimization points\n",
    "InitialPoint = [0.,0.]\n",
    "\n",
    "# Solver type of RIA\n",
    "Solver = ot.NLopt('LN_COBYLA')\n",
    "Solver.setVerbose(True)\n",
    "Solver.setMaximumEvaluationNumber(1000)\n",
    "Solver.setMaximumIterationNumber(200)\n",
    "\n",
    "t0 = time.time()\n",
    "# Instantiation of the RIA algorithm\n",
    "RIA_Algorithm_test = RIA_Algorithm(RBDO_Problem_test,Solver,InitialPoint)\n",
    "\n",
    "# Run of RIA algorithm\n",
    "result = RIA_Algorithm_test.run()\n",
    "\n",
    "#Obtained results\n",
    "print('Optimal design variables p = ',RIA_Algorithm_test.get_optimum())\n",
    "print('Optimal objective function value = ',RIA_Algorithm_test.get_foptimum())\n",
    "print('Optimal constraint functions value = ',RIA_Algorithm_test.get_consoptimum())\n",
    "print('Number of RIA iterations = ', result.getEvaluationNumber())\n",
    "print('Time CPU = ',time.time()-t0)"
   ]
  }
 ],
 "metadata": {
  "kernelspec": {
   "display_name": "Python 3",
   "language": "python",
   "name": "python3"
  },
  "language_info": {
   "codemirror_mode": {
    "name": "ipython",
    "version": 3
   },
   "file_extension": ".py",
   "mimetype": "text/x-python",
   "name": "python",
   "nbconvert_exporter": "python",
   "pygments_lexer": "ipython3",
   "version": "3.8.8"
  }
 },
 "nbformat": 4,
 "nbformat_minor": 4
}
